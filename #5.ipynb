# Import library yang diperlukan
import pandas as pd
import numpy as np
import matplotlib.pyplot as plt
import seaborn as sns

# Mengatur gaya visualisasi
sns.set_style("whitegrid")

# --- 1. Memuat Dataset ---
# Dataset Titanic tersedia secara built-in di library Seaborn, membuatnya mudah diakses.
titanic = sns.load_dataset('titanic')

# Menampilkan 5 baris pertama dataset untuk melihat struktur data
print("5 Baris Pertama Dataset Titanic:")
print(titanic.head())
print("\n" + "="*50 + "\n")

# --- 2. Analisis Data Eksplorasi (EDA) ---

# Statistik Deskriptif
# Memberikan ringkasan statistik dari kolom numerik
print("Ringkasan Statistik Deskriptif:")
print(titanic.describe(include='all'))
print("\n" + "="*50 + "\n")

# Distribusi Kelangsungan Hidup (Survival)
# Menghitung dan memvisualisasikan jumlah penumpang yang selamat (1) dan tidak selamat (0).
print("Distribusi Kelangsungan Hidup:")
survived_counts = titanic['survived'].value_counts()
print(survived_counts)

plt.figure(figsize=(6, 4))
sns.countplot(x='survived', data=titanic)
plt.title('Distribusi Penumpang yang Selamat (1) dan Tidak Selamat (0)')
plt.xticks(ticks=[0, 1], labels=['Tidak Selamat', 'Selamat'])
plt.xlabel('Status Kelangsungan Hidup')
plt.ylabel('Jumlah Penumpang')
plt.show()

# Hubungan antara Kelangsungan Hidup dan Jenis Kelamin
# Memvisualisasikan tingkat kelangsungan hidup berdasarkan jenis kelamin.
plt.figure(figsize=(8, 5))
sns.barplot(x='sex', y='survived', data=titanic, palette='viridis')
plt.title('Tingkat Kelangsungan Hidup Berdasarkan Jenis Kelamin')
plt.xlabel('Jenis Kelamin')
plt.ylabel('Tingkat Kelangsungan Hidup Rata-rata')
plt.show()

# Hubungan antara Kelangsungan Hidup dan Kelas Penumpang (pclass)
# Memvisualisasikan tingkat kelangsungan hidup berdasarkan kelas tiket.
plt.figure(figsize=(8, 5))
sns.barplot(x='pclass', y='survived', data=titanic, palette='rocket')
plt.title('Tingkat Kelangsungan Hidup Berdasarkan Kelas Penumpang')
plt.xlabel('Kelas Penumpang')
plt.ylabel('Tingkat Kelangsungan Hidup Rata-rata')
plt.show()

# Distribusi Usia dan Kelangsungan Hidup
# Menggunakan histogram untuk melihat sebaran usia dan perbandingannya antara yang selamat dan tidak selamat.
plt.figure(figsize=(10, 6))
sns.histplot(data=titanic, x='age', hue='survived', multiple='stack', bins=30, kde=True)
plt.title('Distribusi Usia Berdasarkan Status Kelangsungan Hidup')
plt.xlabel('Usia')
plt.ylabel('Jumlah Penumpang')
plt.show()

# Korelasi antara Fitur Numerik
# Membuat matriks korelasi untuk melihat hubungan antar variabel numerik
# (age, fare, sibsp, parch, survived, pclass).
numeric_features = titanic[['age', 'fare', 'sibsp', 'parch', 'survived', 'pclass']]
correlation_matrix = numeric_features.corr()

plt.figure(figsize=(10, 8))
sns.heatmap(correlation_matrix, annot=True, cmap='coolwarm', fmt=".2f")
plt.title('Heatmap Korelasi Fitur Numerik')
plt.show()
