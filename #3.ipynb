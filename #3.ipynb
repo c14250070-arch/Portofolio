{
 "cells": [
  {
   "cell_type": "markdown",
   "metadata": {
    "id": "view-in-github",
    "colab_type": "text"
   },
   "source": [
    "### **Metode IQR untuk Menghilangkan Outlier pada Dataset Indonesia Reading Interest**\n",
    "\n",
    "Metode **Interquartile Range (IQR)** adalah teknik yang efektif untuk membersihkan data dari nilai-nilai ekstrem (pencilan atau *outlier*). Kode ini akan menunjukkan bagaimana cara kerjanya pada beberapa kolom numerik di dataset Indonesia Reading Interest."
   ]
  },
  {
   "cell_type": "code",
   "metadata": {
    "id": "import-libraries",
    "colab_type": "code",
    "executionInfo": {
     "is_current": false
    }
   },
   "source": [
    "# Mengimpor library yang dibutuhkan\n",
    "import pandas as pd\n",
    "import matplotlib.pyplot as plt\n",
    "import seaborn as sns\n",
    "import warnings\n",
    "\n",
    "# Mengabaikan peringatan untuk tampilan yang lebih bersih\n",
    "warnings.filterwarnings('ignore')\n",
    "\n",
    "# Mengatur style plot\n",
    "plt.style.use('seaborn-darkgrid')"
   ]
  },
  {
   "cell_type": "code",
   "metadata": {
    "id": "load-data-and-preprocess",
    "colab_type": "code"
   },
   "source": [
    "# Memuat dataset\n",
    "# Pastikan Anda sudah mengunggah file TGM 2020-2023_eng.csv ke Google Colab\n",
    "file_path = 'TGM 2020-2023_eng.csv'\n",
    "df = pd.read_csv(file_path, delimiter=';', encoding='UTF-8-SIG')\n",
    "\n",
    "# --- Data Preprocessing: Konversi dan Penghapusan Missing Value ---\n",
    "# Mengubah kolom yang relevan menjadi tipe numerik. 'errors=coerce' akan mengubah nilai yang tidak bisa dikonversi menjadi NaN\n",
    "df['Reading Frequency per week'] = pd.to_numeric(df['Reading Frequency per week'], errors='coerce')\n",
    "df['Number of Readings per Quarter'] = pd.to_numeric(df['Number of Readings per Quarter'], errors='coerce')\n",
    "df['Daily Reading Duration (in minutes)'] = pd.to_numeric(df['Daily Reading Duration (in minutes)'], errors='coerce')\n",
    "df['Internet Access Frequency per Week'] = pd.to_numeric(df['Internet Access Frequency per Week'], errors='coerce')\n",
    "df['Daily Internet Duration (in minutes)'] = pd.to_numeric(df['Daily Internet Duration (in minutes)'], errors='coerce')\n",
    "\n",
    "# Menghapus baris dengan missing values (NaN) yang dihasilkan dari konversi\n",
    "df.dropna(inplace=True)\n",
    "\n",
    "print(\"Informasi Dataset setelah preprocessing:\\n\")\n",
    "print(df.info())\n",
    "print(\"\\n5 baris pertama dataset:\\n\")\n",
    "print(df.head())"
   ]
  },
  {
   "cell_type": "markdown",
   "metadata": {
    "id": "outlier-removal-reading-duration"
   },
   "source": [
    "### **Pembersihan Outlier pada 'Daily Reading Duration (in minutes)'**\n",
    "Kita akan menggunakan metode IQR untuk membersihkan kolom durasi membaca harian. Nilai yang sangat tinggi atau sangat rendah akan dihapus."
   ]
  },
  {
   "cell_type": "code",
   "metadata": {
    "id": "handle-reading-outliers",
    "colab_type": "code"
   },
   "source": [
    "# Visualisasi histogram sebelum pembersihan outlier\n",
    "plt.figure(figsize=(12, 6))\n",
    "sns.histplot(df['Daily Reading Duration (in minutes)'], bins=50, kde=True, color='blue')\n",
    "plt.title('Distribusi Sebelum Pembersihan Outlier: Durasi Membaca Harian')\n",
    "plt.xlabel('Durasi (menit)')\n",
    "plt.ylabel('Frekuensi')\n",
    "plt.show()\n",
    "\n",
    "# Menghitung Kuartil (Q1 dan Q3) dan IQR\n",
    "Q1 = df['Daily Reading Duration (in minutes)'].quantile(0.25)\n",
    "Q3 = df['Daily Reading Duration (in minutes)'].quantile(0.75)\n",
    "IQR = Q3 - Q1\n",
    "\n",
    "# Menghitung batas bawah dan batas atas untuk mendeteksi outlier\n",
    "lower_bound = Q1 - 1.5 * IQR\n",
    "upper_bound = Q3 + 1.5 * IQR\n",
    "\n",
    "print(f\"Q1: {Q1}\")\n",
    "print(f\"Q3: {Q3}\")\n",
    "print(f\"IQR: {IQR}\")\n",
    "print(f\"Batas Bawah: {lower_bound}\")\n",
    "print(f\"Batas Atas: {upper_bound}\")\n",
    "\n",
    "# Memfilter DataFrame untuk menghapus outlier\n",
    "df_filtered_reading = df[(df['Daily Reading Duration (in minutes)'] >= lower_bound) & \n",
    "                         (df['Daily Reading Duration (in minutes)'] <= upper_bound)]\n",
    "\n",
    "print(f\"\\nJumlah data sebelum filter: {len(df)}\")\n",
    "print(f\"Jumlah data setelah filter: {len(df_filtered_reading)}\")\n",
    "\n",
    "# Visualisasi histogram setelah pembersihan outlier\n",
    "plt.figure(figsize=(12, 6))\n",
    "sns.histplot(df_filtered_reading['Daily Reading Duration (in minutes)'], bins=50, kde=True, color='red')\n",
    "plt.title('Distribusi Setelah Pembersihan Outlier: Durasi Membaca Harian')\n",
    "plt.xlabel('Durasi (menit)')\n",
    "plt.ylabel('Frekuensi')\n",
    "plt.show()"
   ]
  },
  {
   "cell_type": "markdown",
   "metadata": {
    "id": "outlier-removal-internet-duration"
   },
   "source": [
    "### **Pembersihan Outlier pada 'Daily Internet Duration (in minutes)'**\n",
    "Kita akan mengulangi proses yang sama untuk kolom durasi internet harian."
   ]
  },
  {
   "cell_type": "code",
   "metadata": {
    "id": "handle-internet-outliers",
    "colab_type": "code"
   },
   "source": [
    "# Visualisasi histogram sebelum pembersihan outlier\n",
    "plt.figure(figsize=(12, 6))\n",
    "sns.histplot(df['Daily Internet Duration (in minutes)'], bins=50, kde=True, color='green')\n",
    "plt.title('Distribusi Sebelum Pembersihan Outlier: Durasi Internet Harian')\n",
    "plt.xlabel('Durasi (menit)')\n",
    "plt.ylabel('Frekuensi')\n",
    "plt.show()\n",
    "\n",
    "# Menghitung Kuartil (Q1 dan Q3) dan IQR\n",
    "Q1_internet = df['Daily Internet Duration (in minutes)'].quantile(0.25)\n",
    "Q3_internet = df['Daily Internet Duration (in minutes)'].quantile(0.75)\n",
    "IQR_internet = Q3_internet - Q1_internet\n",
    "\n",
    "# Menghitung batas bawah dan batas atas\n",
    "lower_bound_internet = Q1_internet - 1.5 * IQR_internet\n",
    "upper_bound_internet = Q3_internet + 1.5 * IQR_internet\n",
    "\n",
    "print(f\"Q1: {Q1_internet}\")\n",
    "print(f\"Q3: {Q3_internet}\")\n",
    "print(f\"IQR: {IQR_internet}\")\n",
    "print(f\"Batas Bawah: {lower_bound_internet}\")\n",
    "print(f\"Batas Atas: {upper_bound_internet}\")\n",
    "\n",
    "# Memfilter DataFrame untuk menghapus outlier\n",
    "df_filtered_internet = df[(df['Daily Internet Duration (in minutes)'] >= lower_bound_internet) & \n",
    "                          (df['Daily Internet Duration (in minutes)'] <= upper_bound_internet)]\n",
    "\n",
    "print(f\"\\nJumlah data sebelum filter: {len(df)}\")\n",
    "print(f\"Jumlah data setelah filter: {len(df_filtered_internet)}\")\n",
    "\n",
    "# Visualisasi histogram setelah pembersihan outlier\n",
    "plt.figure(figsize=(12, 6))\n",
    "sns.histplot(df_filtered_internet['Daily Internet Duration (in minutes)'], bins=50, kde=True, color='purple')\n",
    "plt.title('Distribusi Setelah Pembersihan Outlier: Durasi Internet Harian')\n",
    "plt.xlabel('Durasi (menit)')\n",
    "plt.ylabel('Frekuensi')\n",
    "plt.show()"
   ]
  }
 ],
 "metadata": {
  "kernelspec": {
   "display_name": "Python 3",
   "language": "python",
   "name": "python3"
  },
  "language_info": {
   "codemirror_mode": {
    "name": "ipython",
    "version": 3
   },
   "file_extension": ".py",
   "mimetype": "text/x-python",
   "name": "python",
   "nbconvert_exporter": "python",
   "pygments_lexer": "ipython3",
   "version": "3.8.8"
  }
 },
 "nbformat": 4,
 "nbformat_minor": 4
}
